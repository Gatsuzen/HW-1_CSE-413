{
  "nbformat": 4,
  "nbformat_minor": 0,
  "metadata": {
    "colab": {
      "provenance": []
    },
    "kernelspec": {
      "name": "python3",
      "display_name": "Python 3"
    },
    "language_info": {
      "name": "python"
    }
  },
  "cells": [
    {
      "cell_type": "markdown",
      "source": [
        "ID - 2215151038\n",
        "\n",
        "Name - Musber Ahmed Sadman\n",
        "\n",
        "Sec - 7A2\n",
        "\n",
        "Course Code - CSE 413\n",
        "\n",
        "Course Name - Simulation and Modeling Lab"
      ],
      "metadata": {
        "id": "rGA4CXo_5nfG"
      }
    },
    {
      "cell_type": "code",
      "execution_count": 23,
      "metadata": {
        "id": "TB9hVFFu36dE"
      },
      "outputs": [],
      "source": [
        "import numpy as np\n",
        "import numpy as np\n",
        "import matplotlib.pyplot as plt"
      ]
    },
    {
      "cell_type": "code",
      "source": [
        "# On-hand inventory probabilities\n",
        "inventory_levels = [15, 25, 35, 40, 42, 55]\n",
        "probabilities = [0.12, 0.25, 0.35, 0.20, 0.06, 0.02]"
      ],
      "metadata": {
        "id": "ZBVUNy0J4n4r"
      },
      "execution_count": 24,
      "outputs": []
    },
    {
      "cell_type": "code",
      "source": [
        "# Simulation parameters\n",
        "weeks = 60\n",
        "order_interval = 2\n",
        "max_inventory = 100\n",
        "\n",
        "order_sizes = []\n",
        "holding_costs = []\n",
        "order_costs = []\n",
        "\n",
        "for i in range(weeks // order_interval):\n",
        "    # Sample on-hand inventory\n",
        "    inventory = np.random.choice(inventory_levels, p=probabilities)\n",
        "    order_size = max_inventory - inventory\n",
        "    order_sizes.append(order_size)\n",
        "\n",
        "    # Cost calculations\n",
        "    order_cost = 50 + 4 * order_size  # $50 + $4 per product ordered\n",
        "    holding_cost = inventory * 2 * 1  # $1 per unit per week, for 2 weeks\n",
        "    total_cost = order_cost + holding_cost\n",
        "\n",
        "    order_costs.append(order_cost)\n",
        "    holding_costs.append(holding_cost)"
      ],
      "metadata": {
        "id": "6lUiry1r4j6c"
      },
      "execution_count": 25,
      "outputs": []
    },
    {
      "cell_type": "code",
      "source": [
        "# a. Simulate 60 weeks and show the estimated average order size.\n",
        "# b. Based on the simulation, the average total cost of \"having\" the product.\n",
        "\n",
        "avg_order_size = np.mean(order_sizes)\n",
        "avg_total_cost = np.mean(np.array(order_costs) + np.array(holding_costs))\n",
        "\n",
        "print(f\"Average Order Size over 60 weeks: {avg_order_size:.2f} units\")\n",
        "print(f\"Average Total Cost of 'having' the product: ${avg_total_cost:.2f}\")"
      ],
      "metadata": {
        "colab": {
          "base_uri": "https://localhost:8080/"
        },
        "id": "_BpV6X6P4aH9",
        "outputId": "95e32acd-303d-4b98-f535-2af2685300e4"
      },
      "execution_count": 26,
      "outputs": [
        {
          "output_type": "stream",
          "name": "stdout",
          "text": [
            "Average Order Size over 60 weeks: 63.63 units\n",
            "Average Total Cost of 'having' the product: $377.27\n"
          ]
        }
      ]
    },
    {
      "cell_type": "code",
      "source": [
        "def single_server_queue(lmbda, mu, n_customers=200, queue_limit=None):\n",
        "    inter_arrival_times = np.random.exponential(1/lmbda, n_customers)\n",
        "    service_times = np.random.exponential(1/mu, n_customers)\n",
        "    arrival_times = np.cumsum(inter_arrival_times)\n",
        "\n",
        "    start_times = np.zeros(n_customers)\n",
        "    end_times = np.zeros(n_customers)\n",
        "    waiting_times = np.zeros(n_customers)\n",
        "\n",
        "    start_times[0] = arrival_times[0]\n",
        "    end_times[0] = start_times[0] + service_times[0]\n",
        "\n",
        "    served_customers = 1\n",
        "\n",
        "    for i in range(1, n_customers):\n",
        "        if queue_limit is not None and (i - served_customers) > queue_limit:\n",
        "            continue  # customer lost due to full queue\n",
        "\n",
        "        start_times[i] = max(arrival_times[i], end_times[i-1])\n",
        "        end_times[i] = start_times[i] + service_times[i]\n",
        "        waiting_times[i] = start_times[i] - arrival_times[i]\n",
        "        served_customers += 1\n",
        "\n",
        "    utilization = np.sum(service_times[:served_customers]) / end_times[served_customers - 1]\n",
        "    avg_waiting = np.mean(waiting_times[:served_customers])\n",
        "\n",
        "    print(f\"λ = {lmbda}, μ = {mu}, Queue Limit = {queue_limit if queue_limit else '∞'}\")\n",
        "    print(f\"Server Utilization: {utilization*100:.2f}%\")\n",
        "    print(f\"Average Waiting Time: {avg_waiting:.2f} units\")\n",
        "    print(f\"Customers Served: {served_customers}/{n_customers}\")\n",
        "    print('\\n')"
      ],
      "metadata": {
        "id": "GCym_4F24vEk"
      },
      "execution_count": 27,
      "outputs": []
    },
    {
      "cell_type": "code",
      "source": [
        "# Q1: λ=3, μ=4\n",
        "single_server_queue(3, 4)\n",
        "\n",
        "# Q2: λ=8, μ=6 (Overloaded server)\n",
        "single_server_queue(8, 6)\n",
        "\n",
        "# Q3: λ=3, μ=4, queue limit = 10\n",
        "single_server_queue(3, 4, queue_limit=10)"
      ],
      "metadata": {
        "colab": {
          "base_uri": "https://localhost:8080/"
        },
        "id": "_vtRKXIP4_rN",
        "outputId": "9965fffc-e3cd-4d63-bab2-167afcabdb67"
      },
      "execution_count": 28,
      "outputs": [
        {
          "output_type": "stream",
          "name": "stdout",
          "text": [
            "λ = 3, μ = 4, Queue Limit = ∞\n",
            "Server Utilization: 67.61%\n",
            "Average Waiting Time: 0.34 units\n",
            "Customers Served: 200/200\n",
            "\n",
            "\n",
            "λ = 8, μ = 6, Queue Limit = ∞\n",
            "Server Utilization: 98.62%\n",
            "Average Waiting Time: 4.74 units\n",
            "Customers Served: 200/200\n",
            "\n",
            "\n",
            "λ = 3, μ = 4, Queue Limit = 10\n",
            "Server Utilization: 70.92%\n",
            "Average Waiting Time: 0.51 units\n",
            "Customers Served: 200/200\n",
            "\n",
            "\n"
          ]
        }
      ]
    }
  ]
}