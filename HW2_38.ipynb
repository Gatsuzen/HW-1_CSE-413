{
  "nbformat": 4,
  "nbformat_minor": 0,
  "metadata": {
    "colab": {
      "provenance": []
    },
    "kernelspec": {
      "name": "python3",
      "display_name": "Python 3"
    },
    "language_info": {
      "name": "python"
    }
  },
  "cells": [
    {
      "cell_type": "markdown",
      "source": [
        "**ID - 2215151038**\n",
        "\n",
        "**Name - Musber Ahmed Sadman**\n",
        "\n",
        "**Sec - 7A2**\n",
        "\n",
        "Course Code - CSE 413\n",
        "\n",
        "Course Name - Simulation and Modeling Lab\n"
      ],
      "metadata": {
        "id": "51WtjXyD34yx"
      }
    },
    {
      "cell_type": "code",
      "execution_count": 1,
      "metadata": {
        "id": "nWj0JPqOuoPi"
      },
      "outputs": [],
      "source": [
        "import numpy as np\n",
        "from sympy import Matrix\n",
        "import matplotlib.pyplot as plt\n",
        "import seaborn as sns"
      ]
    },
    {
      "cell_type": "code",
      "source": [
        "# A 3x3 matrix was generated\n",
        "# Run the code twice\n",
        "matrix1 = np.random.randint(1, 51, size=(3, 3))\n",
        "print(\"The Matrix:\\n\",matrix1)"
      ],
      "metadata": {
        "colab": {
          "base_uri": "https://localhost:8080/"
        },
        "id": "Hef_GXEGwE1G",
        "outputId": "7adb8b03-b881-4ed5-b449-85ced73ca268"
      },
      "execution_count": 3,
      "outputs": [
        {
          "output_type": "stream",
          "name": "stdout",
          "text": [
            "The Matrix:\n",
            " [[14 46 39]\n",
            " [17 50 12]\n",
            " [ 5 11  4]]\n"
          ]
        }
      ]
    },
    {
      "cell_type": "code",
      "source": [
        "# With a fixed seed (`np.random.seed(10)`) to ensure reproducibility.\n",
        "np.random.seed(10)\n",
        "matrix2 = np.random.randint(1, 51, size=(3, 3))\n",
        "print(\"The Matrix:\\n\",matrix2)"
      ],
      "metadata": {
        "colab": {
          "base_uri": "https://localhost:8080/"
        },
        "id": "CQ1Bmly6xiAg",
        "outputId": "45aac071-b4af-4948-daf4-cfa0758c9536"
      },
      "execution_count": 17,
      "outputs": [
        {
          "output_type": "stream",
          "name": "stdout",
          "text": [
            "The Matrix:\n",
            " [[10 37 16]\n",
            " [ 1 50 29]\n",
            " [26 30 49]]\n"
          ]
        }
      ]
    },
    {
      "cell_type": "code",
      "source": [
        "# Without setting a seed, allowing random values to change each time.\n",
        "np.random.seed(None)\n",
        "matrix3 = np.random.randint(1, 51, size=(3, 3))\n",
        "print(\"The Matrix:\\n\",matrix3)"
      ],
      "metadata": {
        "colab": {
          "base_uri": "https://localhost:8080/"
        },
        "id": "v4s65yCuy8tW",
        "outputId": "b059c92b-9aff-443c-8c2a-a77f2b07afdd"
      },
      "execution_count": 21,
      "outputs": [
        {
          "output_type": "stream",
          "name": "stdout",
          "text": [
            "The Matrix:\n",
            " [[50  4 11]\n",
            " [14 12 12]\n",
            " [13 48 48]]\n"
          ]
        }
      ]
    },
    {
      "cell_type": "markdown",
      "source": [
        "# **The difference between the two outputs**\n",
        "\n",
        "\n",
        "> **First Code:** We can see that, on the first matrix for fixed seed (matrix2), the output comes the same everytime we run the code. The reason is the function \"np.random.seed(10)\" that ensures that the numbers generated for the first time remains the same.\n",
        "\n",
        ">**Second Code:** In this case we can see that the \"np.random.seed()\" was applied but because of \"None\" in the mentioned function, the code having no seed value generates a random value for the nonseeded matrix (matrix3) everytime we run the code.\n",
        "\n",
        "**The reason for using \"10\" as the seed value is that- using the value 10 means any integers i.e. within the range of 0-9 would be used as seed. This ensures that the random values stay same.**\n",
        "\n",
        "\n"
      ],
      "metadata": {
        "id": "XbwABW4M0e99"
      }
    }
  ]
}