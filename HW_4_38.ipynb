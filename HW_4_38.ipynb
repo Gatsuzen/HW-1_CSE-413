{
  "nbformat": 4,
  "nbformat_minor": 0,
  "metadata": {
    "colab": {
      "provenance": []
    },
    "kernelspec": {
      "name": "python3",
      "display_name": "Python 3"
    },
    "language_info": {
      "name": "python"
    }
  },
  "cells": [
    {
      "cell_type": "markdown",
      "source": [
        "**ID - 2215151038**\n",
        "\n",
        "**Name - Musber Ahmed Sadman**\n",
        "\n",
        "**Sec - 7A2**\n",
        "\n",
        "Course Code - CSE 413\n",
        "\n",
        "Course Name - Simulation and Modeling Lab"
      ],
      "metadata": {
        "id": "EyiLjVyr1oNp"
      }
    },
    {
      "cell_type": "code",
      "execution_count": 1,
      "metadata": {
        "id": "Hpj0FHbcEnnl"
      },
      "outputs": [],
      "source": [
        "import numpy as np\n",
        "from sympy import Matrix\n",
        "import matplotlib.pyplot as plt\n",
        "import seaborn as sns\n",
        "import scipy.stats as stats"
      ]
    },
    {
      "cell_type": "code",
      "source": [
        "#Randomly generate 50 values from a normal distribution with a chosen mean (μ1 = 100) and standard deviation (i.e. 5).\n",
        "nvalues1 = np.random.normal(100,5,50)"
      ],
      "metadata": {
        "id": "a6J5Ge5HFv9h"
      },
      "execution_count": 2,
      "outputs": []
    },
    {
      "cell_type": "code",
      "source": [
        "#Randomly generate 50 values from a normal distribution with a chosen mean (μ1 = 200) and standard deviation (i.e. 6).\n",
        "nvalues2 = np.random.normal(200,6,50)"
      ],
      "metadata": {
        "id": "kmaNYQV4GBSx"
      },
      "execution_count": 3,
      "outputs": []
    },
    {
      "cell_type": "code",
      "source": [
        "#Generate two sets of from a normal distribution and perform a two-sample t-test.\n",
        "\n",
        "t_statistic, p_value = stats.ttest_ind(nvalues1, nvalues2, equal_var=True)\n",
        "\n",
        "mean_diff = np.mean(nvalues1) - np.mean(nvalues2)\n",
        "std_err = np.sqrt(np.var(nvalues1, ddof=1)/len(nvalues1) + np.var(nvalues2, ddof=1)/len(nvalues2))\n",
        "df = (std_err**4) / ((np.var(nvalues1, ddof=1)/len(nvalues1))**2 / (len(nvalues1)-1) + (np.var(nvalues2, ddof=1)/len(nvalues2))**2 / (len(nvalues2)-1))\n",
        "ci = stats.t.interval(0.95, df, loc=mean_diff, scale=std_err)"
      ],
      "metadata": {
        "id": "cCLp10OgG2mY"
      },
      "execution_count": 4,
      "outputs": []
    },
    {
      "cell_type": "code",
      "source": [
        "print(f'Sample 1 Mean: {np.mean(nvalues1):.2f}')\n",
        "print(f'Sample 2 Mean: {np.mean(nvalues2):.2f}')\n",
        "print(f't-Statistic: {t_statistic:.2f}')\n",
        "print(f'p-Value: {p_value:.4f}')\n",
        "print(f'Degree of Freedom: {df:.2f}')\n",
        "print(f'95% Confidence Interval: ({ci[0]:.2f}, {ci[1]:.2f})')"
      ],
      "metadata": {
        "colab": {
          "base_uri": "https://localhost:8080/"
        },
        "id": "ME__tDXgHfuw",
        "outputId": "48bcb19c-7a99-4d95-b1a8-b464f7acfc22"
      },
      "execution_count": 5,
      "outputs": [
        {
          "output_type": "stream",
          "name": "stdout",
          "text": [
            "Sample 1 Mean: 100.01\n",
            "Sample 2 Mean: 199.39\n",
            "t-Statistic: -90.33\n",
            "p-Value: 0.0000\n",
            "Degree of Freedom: 91.09\n",
            "95% Confidence Interval: (-101.56, -97.19)\n"
          ]
        }
      ]
    },
    {
      "cell_type": "code",
      "source": [
        "alpha = 0.05\n",
        "if p_value < alpha:\n",
        "    print(\"Reject the null hypothesis. The means of the two samples are significantly different.\")\n",
        "else:\n",
        "    print(\"Fail to reject the null hypothesis. The means of the two samples are not significantly different.\")"
      ],
      "metadata": {
        "colab": {
          "base_uri": "https://localhost:8080/"
        },
        "id": "g-3r2i6nHqlg",
        "outputId": "a57ac0da-ecf8-43d5-e76a-e9561885ec41"
      },
      "execution_count": 6,
      "outputs": [
        {
          "output_type": "stream",
          "name": "stdout",
          "text": [
            "Reject the null hypothesis. The means of the two samples are significantly different.\n"
          ]
        }
      ]
    },
    {
      "cell_type": "code",
      "source": [
        "plt.figure(figsize=(6, 4))\n",
        "plt.bar(['Sample 1', 'Sample 2'], [np.mean(nvalues1), np.mean(nvalues2)], color=['gold', 'silver'], alpha=0.7)\n",
        "plt.errorbar(['Sample 1', 'Sample 2'], [np.mean(nvalues1), np.mean(nvalues2)], yerr=[np.std(nvalues1, ddof=1), np.std(nvalues2, ddof=1)], fmt='k_', capsize=5)\n",
        "plt.title('Comparison of Sample Means')\n",
        "plt.ylabel('Mean Value')\n",
        "plt.grid(True)\n",
        "plt.show()"
      ],
      "metadata": {
        "colab": {
          "base_uri": "https://localhost:8080/",
          "height": 391
        },
        "id": "Anm5bJcLH2w3",
        "outputId": "0786b904-c78b-4b30-d0b7-7b2269578101"
      },
      "execution_count": 7,
      "outputs": [
        {
          "output_type": "display_data",
          "data": {
            "text/plain": [
              "<Figure size 600x400 with 1 Axes>"
            ],
            "image/png": "[encoded data removed]"
          },
          "metadata": {}
        }
      ]
    }
  ]
}
